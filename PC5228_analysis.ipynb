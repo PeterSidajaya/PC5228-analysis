{
 "cells": [
  {
   "cell_type": "markdown",
   "id": "ebd826b1-c986-4918-9bed-48ab1f77907b",
   "metadata": {},
   "source": [
    "# PC5228 Analysis\n",
    "\n",
    "In this file I will do the analysis of the results of Mach-Zehnder interferometer-like Quantum circuit from `PC5228_data_generation.ipynb`."
   ]
  },
  {
   "cell_type": "code",
   "execution_count": 1,
   "id": "fcd4e6ed-e1f6-4d5b-b063-8b852d99e075",
   "metadata": {},
   "outputs": [],
   "source": [
    "import numpy as np\n",
    "import matplotlib.pyplot as plt\n",
    "import qiskit"
   ]
  },
  {
   "cell_type": "markdown",
   "id": "a571ea07-9ac1-4120-a366-a429e5af6bb0",
   "metadata": {},
   "source": [
    "First, let us plot the counts (more beautifully this time)."
   ]
  },
  {
   "cell_type": "code",
   "execution_count": 2,
   "id": "8a70e054-9901-4036-9a59-27e29bd3aa23",
   "metadata": {},
   "outputs": [
    {
     "data": {
      "image/png": "[encoded data removed]",
      "text/plain": [
       "<Figure size 432x288 with 1 Axes>"
      ]
     },
     "metadata": {
      "needs_background": "light"
     },
     "output_type": "display_data"
    }
   ],
   "source": [
    "steps = 100\n",
    "phases = np.linspace(0, 6*np.pi, num=steps)\n",
    "# counts_0 = np.loadtxt('counts_0.txt')\n",
    "# counts_1 = np.loadtxt('counts_1.txt')\n",
    "counts_0 = np.sin(phases/2) ** 2\n",
    "counts_1 = np.cos(phases/2) ** 2\n",
    "\n",
    "plt.plot(phases, counts_0, 'r', label='0 counts')\n",
    "plt.plot(phases, counts_1, 'b', label='1 counts')\n",
    "plt.title('Interferometer results')\n",
    "plt.xlabel('Phase')\n",
    "plt.ylabel('Counts (%)')\n",
    "plt.legend(loc='best')\n",
    "plt.show()"
   ]
  },
  {
   "cell_type": "markdown",
   "id": "34e3cc6f-ac44-4b7b-bb64-ee083269c459",
   "metadata": {},
   "source": [
    "Truly, a plot worthy of praise. Now let us turn our attention to the interferometric visibility (see [here](https://en.wikipedia.org/wiki/Interferometric_visibility) for more information), which can be expressed as\n",
    "\n",
    "$$\n",
    "\\nu = \\frac{I_{max} - I_{min}}{I_{max} + I_{min}}\n",
    "$$\n",
    "\n",
    "For a Mach-Zehnder interferometer, this value should ideally be 1 as $I_{min} = 0$ and $I_{max} = 1$. However, we do not live in Plato's idealistic world and our data is noisy and dirty, and thus will not yield such a perfect, integer value."
   ]
  },
  {
   "cell_type": "code",
   "execution_count": 3,
   "id": "62556d85-cdbe-43b6-9d03-4c6eb61d090e",
   "metadata": {},
   "outputs": [
    {
     "name": "stdout",
     "output_type": "stream",
     "text": [
      "Visibility of 0 counts:  1.0\n",
      "Visibility of 1 counts:  0.9954821511577652\n"
     ]
    }
   ],
   "source": [
    "def visibility(counts):\n",
    "    max_counts = max(counts)\n",
    "    min_counts = min(counts)\n",
    "    return (max_counts - min_counts) / (max_counts + min_counts)\n",
    "\n",
    "print('Visibility of 0 counts: ', visibility(counts_0))\n",
    "print('Visibility of 1 counts: ', visibility(counts_1))"
   ]
  },
  {
   "cell_type": "markdown",
   "id": "e5e39e85-5fcd-4c0f-acb7-23dcd6de2c00",
   "metadata": {},
   "source": [
    "Let us now investigate this imperfection."
   ]
  },
  {
   "cell_type": "code",
   "execution_count": 4,
   "id": "2a0970ab-0934-497b-9f33-4d5e7623a83c",
   "metadata": {},
   "outputs": [],
   "source": [
    "# Importing standard Qiskit libraries\n",
    "from qiskit import QuantumCircuit, transpile, Aer, IBMQ, execute\n",
    "from qiskit.tools.jupyter import *\n",
    "from qiskit.visualization import *\n",
    "from qiskit.providers.aer import QasmSimulator\n",
    "\n",
    "# Get the simulator\n",
    "simulator = Aer.get_backend('qasm_simulator')\n",
    "\n",
    "# Variables for later use\n",
    "sim_counts_0 = []\n",
    "sim_counts_1 = []\n",
    "\n",
    "for phase in phases:\n",
    "    # Construct the Mach-Zehnder interferometer\n",
    "    mzint = QuantumCircuit(1,1)\n",
    "    mzint.h([0])\n",
    "    mzint.p(phase, 0)\n",
    "    mzint.h([0])\n",
    "    mzint.measure(0, 0)\n",
    "    \n",
    "    # Run it on the simulator\n",
    "    job = execute(mzint, simulator, shots=1024)\n",
    "    result = job.result()\n",
    "\n",
    "    counts = result.get_counts(mzint)\n",
    "    \n",
    "    try:\n",
    "        sim_counts_0.append(counts['0'])\n",
    "    except KeyError:\n",
    "        sim_counts_0.append(0)\n",
    "        \n",
    "    try:\n",
    "        sim_counts_1.append(counts['1'])\n",
    "    except KeyError:\n",
    "        sim_counts_1.append(0)"
   ]
  },
  {
   "cell_type": "code",
   "execution_count": 6,
   "id": "08870857-a6de-4f07-8744-77c6db204413",
   "metadata": {},
   "outputs": [
    {
     "data": {
      "text/html": [
       "<pre style=\"word-wrap: normal;white-space: pre;background: #fff0;line-height: 1.1;font-family: &quot;Courier New&quot;,Courier,monospace\">     ┌───┐┌───────┐┌───┐┌─┐\n",
       "q_0: ┤ H ├┤ P(6π) ├┤ H ├┤M├\n",
       "     └───┘└───────┘└───┘└╥┘\n",
       "c: 1/════════════════════╩═\n",
       "                         0 </pre>"
      ],
      "text/plain": [
       "     ┌───┐┌───────┐┌───┐┌─┐\n",
       "q_0: ┤ H ├┤ P(6π) ├┤ H ├┤M├\n",
       "     └───┘└───────┘└───┘└╥┘\n",
       "c: 1/════════════════════╩═\n",
       "                         0 "
      ]
     },
     "execution_count": 6,
     "metadata": {},
     "output_type": "execute_result"
    }
   ],
   "source": [
    "mzint = QuantumCircuit(1,1)\n",
    "mzint.h([0])\n",
    "mzint.p(phase, 0)\n",
    "mzint.h([0])\n",
    "mzint.measure(0, 0)\n",
    "mzint.draw()"
   ]
  },
  {
   "cell_type": "code",
   "execution_count": null,
   "id": "fdf6ee2c-1278-4115-825b-f0a3d46865fa",
   "metadata": {},
   "outputs": [],
   "source": []
  }
 ],
 "metadata": {
  "kernelspec": {
   "display_name": "Python 3 (ipykernel)",
   "language": "python",
   "name": "python3"
  },
  "language_info": {
   "codemirror_mode": {
    "name": "ipython",
    "version": 3
   },
   "file_extension": ".py",
   "mimetype": "text/x-python",
   "name": "python",
   "nbconvert_exporter": "python",
   "pygments_lexer": "ipython3",
   "version": "3.7.10"
  }
 },
 "nbformat": 4,
 "nbformat_minor": 5
}
